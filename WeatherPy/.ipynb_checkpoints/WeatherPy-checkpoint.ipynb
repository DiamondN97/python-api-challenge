{
 "cells": [
  {
   "cell_type": "markdown",
   "metadata": {},
   "source": [
    "# WeatherPy\n",
    "----\n",
    "\n",
    "#### Note\n",
    "* Instructions have been included for each segment. You do not have to follow them exactly, but they are included to help you think through the steps."
   ]
  },
  {
   "cell_type": "code",
   "execution_count": 43,
   "metadata": {
    "scrolled": true
   },
   "outputs": [],
   "source": [
    "# Dependencies and Setup\n",
    "import matplotlib.pyplot as plt\n",
    "import pandas as pd\n",
    "import numpy as np\n",
    "import requests\n",
    "import time\n",
    "from scipy.stats import linregress\n",
    "from pprint import pprint\n",
    "\n",
    "# Import API key\n",
    "api_key = \"c280ce5700cf1679dcce087b5b74f838\"\n",
    "\n",
    "# Incorporated citipy to determine city based on latitude and longitude\n",
    "from citipy import citipy\n",
    "\n",
    "# Output File (CSV)\n",
    "output_data_file = \"output_data/cities.csv\"\n",
    "\n",
    "# Range of latitudes and longitudes\n",
    "lat_range = (-90, 90)\n",
    "lng_range = (-180, 180)"
   ]
  },
  {
   "cell_type": "markdown",
   "metadata": {},
   "source": [
    "## Generate Cities List"
   ]
  },
  {
   "cell_type": "code",
   "execution_count": 44,
   "metadata": {},
   "outputs": [
    {
     "data": {
      "text/plain": [
       "621"
      ]
     },
     "execution_count": 44,
     "metadata": {},
     "output_type": "execute_result"
    }
   ],
   "source": [
    "# List for holding lat_lngs and cities\n",
    "lat_lngs = []\n",
    "cities = []\n",
    "\n",
    "# Create a set of random lat and lng combinations\n",
    "lats = np.random.uniform(lat_range[0], lat_range[1], size=1500)\n",
    "lngs = np.random.uniform(lng_range[0], lng_range[1], size=1500)\n",
    "lat_lngs = zip(lats, lngs)\n",
    "\n",
    "# Identify nearest city for each lat, lng combination\n",
    "for lat_lng in lat_lngs:\n",
    "    city = citipy.nearest_city(lat_lng[0], lat_lng[1]).city_name\n",
    "    \n",
    "    # If the city is unique, then add it to a our cities list\n",
    "    if city not in cities:\n",
    "        cities.append(city)\n",
    "\n",
    "# Print the city count to confirm sufficient count\n",
    "len(cities)\n"
   ]
  },
  {
   "cell_type": "code",
   "execution_count": 45,
   "metadata": {
    "scrolled": true
   },
   "outputs": [
    {
     "name": "stdout",
     "output_type": "stream",
     "text": [
      "['atuona', 'albany', 'trairi', 'illoqqortoormiut', 'mataura', 'qaanaaq', 'hobart', 'ushuaia', 'barrow', 'the valley', 'richards bay', 'avarua', 'yellowknife', 'palaikastron', 'tual', 'lebu', 'bethel', 'zambezi', 'saint-philippe', 'tessalit', 'sentyabrskiy', 'bathsheba', 'provideniya', 'oranjemund', 'rikitea', 'hermanus', 'saskylakh', 'astara', 'cape town', 'tiksi', 'saleaula', 'luganville', 'kapaa', 'nikolskoye', 'khatanga', 'kaitangata', 'mar del plata', 'bukachacha', 'fort nelson', 'jamestown', 'ribeira grande', 'quatre cocos', 'rawson', 'gorno-chuyskiy', 'koraput', 'rochegda', 'leningradskiy', 'oudtshoorn', 'kuryk', 'busselton', 'carnarvon', 'kodiak', 'odienne', 'kungalv', 'puerto ayora', 'luderitz', 'bejar', 'punta arenas', 'katsuura', 'bambous virieux', 'korla', 'cabo san lucas', 'ituacu', 'nemuro', 'margate', 'easthampton', 'tura', 'souillac', 'gold coast', 'inhambane', 'matara', 'panaba', 'pisco', 'vaini', 'esperance', 'mandalgovi', 'melchor de mencos', 'sri aman', 'severo-kurilsk', 'tsihombe', 'pevek', 'cidreira', 'okara', 'hithadhoo', 'conceicao do araguaia', 'nanakuli', 'conceicao da barra', 'bredasdorp', 'maniitsoq', 'chokurdakh', 'hasaki', 'castro', 'geraldton', 'port lincoln', 'urusha', 'peresichna', 'alcaniz', 'proletarskiy', 'ponta delgada', 'itarema', 'camana', 'touros', 'oktyabrskiy', 'mahebourg', 'upernavik', 'belushya guba', 'tabiauea', 'egvekinot', 'nanpara', 'butaritari', 'maghama', 'tignere', 'znamenskoye', 'tumannyy', 'marsh harbour', 'iquitos', 'mys shmidta', 'faanui', 'gubbio', 'new norfolk', 'tuktoyaktuk', 'porto-vecchio', 'sumbe', 'port moresby', 'isangel', 'haines junction', 'norman wells', 'klaksvik', 'abonnema', 'paamiut', 'bara', 'barentsburg', 'dingle', 'victoria', 'dawei', 'arraial do cabo', 'cherskiy', 'ashtian', 'angra', 'airai', 'shingu', 'cabedelo', 'yabrud', 'kysyl-syr', 'lat yao', 'ngunguru', 'tolstoy-yurt', 'ancud', 'portland', 'cap malheureux', 'yokadouma', 'ishigaki', 'nanortalik', 'hasanpur', 'sovetskaya gavan', 'dikson', 'chuy', 'bluff', 'umm kaddadah', 'ostrovnoy', 'biak', 'georgetown', 'kangshan', 'viedma', 'chabahar', 'pundaguitan', 'havelock', 'autazes', 'rabak', 'vicar', 'hilo', 'thompson', 'zhigansk', 'ola', 'ponta do sol', 'iberia', 'carutapera', 'santa rosalia', 'nizhneyansk', 'umzimvubu', 'saint george', 'qingquan', 'pestretsy', 'santa cruz', 'samusu', 'tocopilla', 'tasiilaq', 'port alfred', 'la ronge', 'clyde river', 'puerto madryn', 'longyearbyen', 'golden', 'kadykchan', 'malindi', 'sur', 'sorvag', 'safakulevo', 'natal', 'shache', 'le mars', 'vanimo', 'san cristobal', 'westport', 'jardim', 'pangnirtung', 'riyadh', 'bengkulu', 'bubaque', 'rio grande', 'ixtapa', 'andarab', 'san patricio', 'jacareacanga', 'ayr', 'wiang sa', 'husavik', 'dayong', 'sotouboua', 'kamaishi', 'skeldon', 'taolanaro', 'narsaq', 'baglan', 'lethem', 'rumoi', 'akdepe', 'palabuhanratu', 'loandjili', 'mana', 'yulara', 'statesboro', 'san lawrenz', 'west plains', 'zharkovskiy', 'bulungu', 'beringovskiy', 'santa fe', 'pimentel', 'faya', 'murdochville', 'buala', 'konotop', 'imeni poliny osipenko', 'salisbury', 'gilazi', 'liuhe', 'east london', 'itacoatiara', 'piacabucu', 'amapa', 'ilulissat', 'dno', 'elko', 'tuy hoa', 'shimoda', 'elizabeth city', 'warrnambool', 'te anau', 'payakumbuh', 'vytegra', 'sao filipe', 'port elizabeth', 'constitucion', 'mandali', 'volksrust', 'kahului', 'samalaeulu', 'loughrea', 'sitka', 'mayo', 'barroquinha', 'lompoc', 'port keats', 'buchanan', 'halalo', 'xunchang', 'thermon', 'omsukchan', 'bintulu', 'prince rupert', 'teluk nibung', 'coihaique', 'gorin', 'cairns', 'caucaia', 'saldanha', 'maarianhamina', 'antofagasta', 'ahipara', 'roblin', 'kavieng', 'falam', 'klyuchi', 'vaitupu', 'codrington', 'harindanga', 'felanitx', 'madang', 'saint-joseph', 'hay river', 'yanam', 'sao joao da barra', 'morros', 'paracuru', 'qaqortoq', 'solnechnyy', 'sadon', 'praia da vitoria', 'nome', 'skopelos', 'ryotsu', 'turbana', 'kapoeta', 'guerrero negro', 'dunedin', 'rokiskis', 'saint-augustin', 'sabang', 'panjab', 'wanaka', 'inderborskiy', 'panambi', 'kelowna', 'fortuna', 'sayat', 'kalanguy', 'bahia blanca', 'kargasok', 'grand river south east', 'fort morgan', 'waipawa', 'najran', 'vestmannaeyjar', 'bonfim', 'batagay-alyta', 'itamaraju', 'yerbogachen', 'villa rica', 'dubovskoye', 'jujuy', 'gboko', 'lavrentiya', 'nuuk', 'inuvik', 'mount hagen', 'latung', 'megion', 'heihe', 'payo', 'flinders', 'borovskoy', 'urzhum', 'roald', 'sakakah', 'dwarka', 'mahadday weyne', 'karaul', 'fairbanks', 'yeppoon', 'pemangkat', 'skagastrond', 'santa lucia', 'lucea', 'tabuleiro do norte', 'meulaboh', 'berbera', 'baoqing', 'nieuw nickerie', 'bahadurganj', 'estrela', 'ronne', 'attawapiskat', 'namibe', 'aklavik', 'utete', 'ikom', 'ariquemes', 'high prairie', 'saint-pierre', 'jeremie', 'kampong thum', 'turukhansk', 'smithers', 'kavaratti', 'hualmay', 'zorgo', 'alvdal', 'linqiong', 'palana', 'ulladulla', 'bac lieu', 'ornskoldsvik', 'beaufort', 'narrabri', 'three hills', 'teknaf', 'gorontalo', 'ban nahin', 'sorland', 'belyy yar', 'sotara', 'yuli', 'shalinskoye', 'ternate', 'joshimath', 'iralaya', 'markova', 'noyabrsk', 'knyaginino', 'nuevo progreso', 'palu', 'oriximina', 'tateyama', 'ucluelet', 'nelson bay', 'alice springs', 'wundanyi', 'belaya gora', 'rorvik', 'otesani', 'san quintin', 'zarnovica', 'nivala', 'markivka', 'dolores', 'pachino', 'madingou', 'freetown', 'abalak', 'jega', 'hamilton', 'concordia', 'bardiyah', 'cazaje', 'maracacume', 'port blair', 'cukai', 'kibala', 'torbay', 'lebanon', 'shahr-e babak', 'tanete', 'constantine', 'havoysund', 'cayenne', 'tengushevo', 'rivne', 'parakou', 'severnyy', 'uarini', 'puerto carreno', 'meyungs', 'camacha', 'puerto escondido', 'fare', 'talnakh', 'poum', 'awbari', 'atasu', 'alindao', 'talbahat', 'port hawkesbury', 'yingcheng', 'cartagena', 'beyla', 'naze', 'krasnoye', 'gamba', 'ziarat', 'thinadhoo', 'gandajika', 'ribnitz-damgarten', 'vao', 'chala', 'sassandra', 'kruisfontein', 'yar-sale', 'foz', 'rybinsk', 'bozeman', 'karkaralinsk', 'vegreville', 'laguna', 'hambantota', 'weligama', 'iriron', 'lago da pedra', 'danielskuil', 'saquena', 'fokino', 'satitoa', 'wiarton', 'walvis bay', 'przhevalskoye', 'opuwo', 'lorengau', 'pauini', 'zima', 'khasan', 'chengmai', 'strezhevoy', 'coquimbo', 'la plata', 'deputatskiy', 'kokopo', 'jalu', 'ambunti', 'sambava', 'qusar', 'izhevskoye', 'lagoa', 'salalah', 'harlingen', 'asau', 'pyay', 'rocha', 'tibiri', 'kampene', 'plettenberg bay', 'laureles', 'padang', 'comodoro rivadavia', 'feijo', 'kemijarvi', 'kanniyakumari', 'paucartambo', 'srandakan', 'srednekolymsk', 'santo angelo', 'evensk', 'ust-kut', 'hit', 'burica', 'amderma', 'odweyne', 'elliot', 'aitape', 'north bend', 'hami', 'great yarmouth', 'bratsk', 'kantunilkin', 'dobsina', 'muros', 'luanda', 'skjervoy', 'jatibonico', 'maputo', 'gazli', 'nushki', 'hirara', 'fallon', 'nouadhibou', 'olafsvik', 'tharad', 'toftir', 'krasnoyarskiy', 'micheweni', 'jasper', 'jinsha', 'ahar', 'broome', 'peniche', 'sioux lookout', 'bahir dar', 'barawe', 'qandala', 'hihifo', 'yumen', 'monrovia', 'stornoway', 'dunmore east', 'zaporizhzhya', 'el espinal', 'west fargo', 'alyangula', 'egra', 'rafai', 'erenhot', 'abha', 'haikou', 'port hardy', 'rio cuarto', 'batasan', 'sistranda', 'sebinkarahisar', 'koboldo', 'bafoulabe', 'praya', 'kulhudhuffushi', 'sangar', 'vila franca do campo', 'sisimiut', 'nalut', 'halifax', 'bolungarvik', 'killam', 'dondaicha', 'cururupu', 'praia', 'pontes e lacerda', 'qui nhon', 'kedrovyy', 'calama', 'lundamo', 'kloulklubed', 'vila velha', 'krasnoselkup', 'vardo', 'ruatoria', 'tete', 'iqaluit', 'san miguel', 'rungata', 'nurota', 'hitoyoshi', 'namatanai', 'serebryansk', 'akyab', 'fort saint james']\n"
     ]
    }
   ],
   "source": [
    "print(cities)"
   ]
  },
  {
   "cell_type": "markdown",
   "metadata": {},
   "source": [
    "### Perform API Calls\n",
    "* Perform a weather check on each city using a series of successive API calls.\n",
    "* Include a print log of each city as it'sbeing processed (with the city number and city name).\n"
   ]
  },
  {
   "cell_type": "code",
   "execution_count": 46,
   "metadata": {},
   "outputs": [],
   "source": [
    "# Build query URL\n",
    "url = \"http://api.openweathermap.org/data/2.5/weather?\"\n",
    "query_url = url + \"&appid=\" + api_key + \"&q=\" "
   ]
  },
  {
   "cell_type": "code",
   "execution_count": 74,
   "metadata": {},
   "outputs": [
    {
     "name": "stdout",
     "output_type": "stream",
     "text": [
      "City: Atuona. City ID: 4020109\n",
      "City: Albany. City ID: 5106841\n",
      "City: Trairi. City ID: 3386177\n",
      "City not found\n",
      "City: Mataura. City ID: 6201424\n",
      "City: Qaanaaq. City ID: 3831208\n",
      "City: Hobart. City ID: 2163355\n",
      "City: Ushuaia. City ID: 3833367\n",
      "City: Barrow. City ID: 5880054\n",
      "City: The Valley. City ID: 3573374\n",
      "City: Richards Bay. City ID: 962367\n",
      "City: Avarua. City ID: 4035715\n",
      "City: Yellowknife. City ID: 6185377\n",
      "City: Palekastro. City ID: 256155\n",
      "City: Tual. City ID: 1623197\n",
      "City: Lebu. City ID: 3883457\n",
      "City: Bethel. City ID: 5282297\n",
      "City: Zambezi. City ID: 895953\n",
      "City: Saint-Philippe. City ID: 935215\n",
      "City: Tessalit. City ID: 2449893\n",
      "City not found\n",
      "City: Bathsheba. City ID: 3374083\n",
      "City: Provideniya. City ID: 4031574\n",
      "City: Oranjemund. City ID: 3354071\n",
      "City: Rikitea. City ID: 4030556\n",
      "City: Hermanus. City ID: 3366880\n",
      "City: Saskylakh. City ID: 2017155\n",
      "City: Astara. City ID: 148442\n",
      "City: Cape Town. City ID: 3369157\n",
      "City: Tiksi. City ID: 2015306\n",
      "City not found\n",
      "City: Luganville. City ID: 2136150\n",
      "City: Kapaa. City ID: 5848280\n",
      "City: Nikolskoye. City ID: 546105\n",
      "City: Khatanga. City ID: 2022572\n",
      "City: Kaitangata. City ID: 2208248\n",
      "City: Mar del Plata. City ID: 3430863\n",
      "City: Bukachacha. City ID: 2026023\n",
      "City: Fort Nelson. City ID: 5955902\n",
      "City: Jamestown. City ID: 5122534\n",
      "City: Ribeira Grande. City ID: 3372707\n",
      "City: Quatre Cocos. City ID: 1106643\n",
      "City: Rawson. City ID: 3839307\n",
      "City not found\n",
      "City: Korāput. City ID: 1266128\n",
      "City: Rochegda. City ID: 501847\n",
      "City: Leningradskiy. City ID: 2123814\n",
      "City: Oudtshoorn. City ID: 967106\n",
      "City: Quryq. City ID: 609919\n",
      "City: Busselton. City ID: 2075265\n",
      "City: Carnarvon. City ID: 2074865\n",
      "City: Saint Paul Harbor. City ID: 5866583\n",
      "City: Odienné. City ID: 2283016\n",
      "City: Kungälv. City ID: 2698739\n",
      "City: Puerto Ayora. City ID: 3652764\n",
      "City: Lüderitz. City ID: 3355672\n",
      "City: Béjar. City ID: 3128382\n",
      "City: Punta Arenas. City ID: 3874787\n",
      "City: Katsuura. City ID: 2112309\n",
      "City: Bambous Virieux. City ID: 1106677\n",
      "City: Korla. City ID: 1529376\n",
      "City: Cabo San Lucas. City ID: 3985710\n",
      "City: Ituaçu. City ID: 3460531\n",
      "City: Nemuro. City ID: 2128975\n",
      "City: Margate. City ID: 2643044\n",
      "City: Easthampton. City ID: 4935582\n",
      "City: Tura. City ID: 1254046\n",
      "City: Souillac. City ID: 933995\n",
      "City: Gold Coast. City ID: 2165087\n",
      "City: Inhambane. City ID: 1045114\n",
      "City: Matara. City ID: 1235846\n",
      "City: Panabá. City ID: 3521972\n",
      "City: Pisco. City ID: 3932145\n",
      "City: Vaini. City ID: 4032243\n",
      "City: Esperance. City ID: 2071860\n",
      "City: Mandalgovi. City ID: 2030065\n",
      "City: Melchor de Mencos. City ID: 3598131\n",
      "City: Sri Aman. City ID: 1735799\n",
      "City: Severo-Kuril'sk. City ID: 2121385\n",
      "City not found\n",
      "City: Pevek. City ID: 2122090\n",
      "City: Cidreira. City ID: 3466165\n",
      "City: Okara. City ID: 1168718\n",
      "City: Hithadhoo. City ID: 1282256\n",
      "City: Conceição do Araguaia. City ID: 3401845\n",
      "City: Nānākuli. City ID: 5851349\n",
      "City: Conceição da Barra. City ID: 3465769\n",
      "City: Bredasdorp. City ID: 1015776\n",
      "City: Maniitsoq. City ID: 3421982\n",
      "City: Chokurdakh. City ID: 2126123\n",
      "City: Hasaki. City ID: 2112802\n",
      "City: Castro. City ID: 3466704\n",
      "City: Geraldton. City ID: 2070998\n",
      "City: Port Lincoln. City ID: 2063036\n",
      "City: Urusha. City ID: 2014078\n",
      "City: Peresichna. City ID: 697676\n",
      "City: Alcañiz. City ID: 3130606\n",
      "City: Proletarskiy. City ID: 504806\n",
      "City: Ponta Delgada. City ID: 3372783\n",
      "City: Itarema. City ID: 3393692\n",
      "City: Camaná. City ID: 3945985\n",
      "City: Touros. City ID: 3386213\n",
      "City: Oktyabr'skiy. City ID: 515879\n",
      "City: Mahébourg. City ID: 934322\n",
      "City: Upernavik. City ID: 3418910\n",
      "City not found\n",
      "City not found\n",
      "City: Egvekinot. City ID: 4031742\n",
      "City: Nānpāra. City ID: 1261901\n",
      "City: Butaritari. City ID: 2110227\n",
      "City not found\n",
      "City: Tignère. City ID: 2221513\n",
      "City: Znamenskoye. City ID: 1485020\n",
      "City not found\n",
      "City: Marsh Harbour. City ID: 3571913\n",
      "City: Iquitos. City ID: 3696183\n",
      "City not found\n",
      "City: Faanui. City ID: 4034551\n",
      "City: Gubbio. City ID: 3175687\n",
      "City: New Norfolk. City ID: 2155415\n",
      "City: Tuktoyaktuk. City ID: 6170031\n",
      "City: Porto-Vecchio. City ID: 2985947\n",
      "City: Sumbe. City ID: 3346015\n",
      "City: Port Moresby. City ID: 2088122\n",
      "City: Isangel. City ID: 2136825\n",
      "City: Haines Junction. City ID: 5969025\n",
      "City: Norman Wells. City ID: 6089245\n",
      "City: Klaksvík. City ID: 2618795\n",
      "City: Abonnema. City ID: 2324433\n",
      "City: Paamiut. City ID: 3421193\n",
      "City: Bara. City ID: 2347758\n",
      "City not found\n",
      "City: Dingle. City ID: 1714733\n",
      "City: Hong Kong. City ID: 1819729\n",
      "City: Dawei. City ID: 1293625\n",
      "City: Arraial do Cabo. City ID: 3471451\n",
      "City: Cherskiy. City ID: 2126199\n",
      "City: Ashtian. City ID: 113636\n",
      "City not found\n",
      "City: Airai. City ID: 1651810\n",
      "City: Shingū. City ID: 1847947\n",
      "City: Cabedelo. City ID: 3404558\n",
      "City: Yabrūd. City ID: 162627\n",
      "City: Kysyl-Syr. City ID: 2021017\n",
      "City: Lat Yao. City ID: 1152377\n",
      "City: Ngunguru. City ID: 2186111\n",
      "City: Tolstoy-Yurt. City ID: 482309\n",
      "City: Ancud. City ID: 3899695\n",
      "City: Portland. City ID: 5746545\n",
      "City: Cap Malheureux. City ID: 934649\n",
      "City: Yokadouma. City ID: 2220853\n",
      "City: Ishigaki. City ID: 1861416\n",
      "City: Nanortalik. City ID: 3421765\n",
      "City: Hasanpur. City ID: 1270251\n",
      "City: Sovetskaya Gavan'. City ID: 2121052\n",
      "City: Dikson. City ID: 1507390\n",
      "City: Chui. City ID: 3443061\n",
      "City: Bluff. City ID: 2206939\n",
      "City: Umm Kaddadah. City ID: 364933\n",
      "City: Ostrovnoy. City ID: 556268\n",
      "City: Biak. City ID: 1637001\n",
      "City: George Town. City ID: 1735106\n",
      "City: Kangshan. City ID: 1804819\n",
      "City: Viedma. City ID: 3832899\n",
      "City: Chabahar. City ID: 1161724\n",
      "City: Pundaguitan. City ID: 1698289\n",
      "City: Havelock. City ID: 4470244\n",
      "City: Autazes. City ID: 3406948\n",
      "City: Rabak. City ID: 368277\n",
      "City: Vícar. City ID: 2509650\n",
      "City: Hilo. City ID: 5855927\n",
      "City: Thompson. City ID: 6165406\n",
      "City: Zhigansk. City ID: 2012530\n",
      "City: Ola. City ID: 2122574\n",
      "City: Ponta do Sol. City ID: 2264557\n",
      "City: Iberia. City ID: 4328254\n",
      "City: Carutapera. City ID: 3402648\n",
      "City: Santa Rosalía. City ID: 3983805\n",
      "City not found\n",
      "City not found\n",
      "City: Saint George. City ID: 5546220\n",
      "City: Qingquan. City ID: 1797793\n",
      "City: Pestretsy. City ID: 510342\n",
      "City: Santa Cruz de la Sierra. City ID: 3904906\n",
      "City not found\n",
      "City: Tocopilla. City ID: 3869716\n",
      "City: Tasiilaq. City ID: 3424607\n",
      "City: Port Alfred. City ID: 964432\n",
      "City: La Ronge. City ID: 6050066\n",
      "City: Clyde River. City ID: 5924351\n",
      "City: Puerto Madryn. City ID: 3840092\n",
      "City: Longyearbyen. City ID: 2729907\n",
      "City: Golden. City ID: 5423294\n",
      "City not found\n",
      "City: Malindi. City ID: 187968\n",
      "City: Sur. City ID: 286245\n",
      "City not found\n",
      "City: Safakulevo. City ID: 1493268\n",
      "City: Natal. City ID: 3394023\n",
      "City: Shache. City ID: 1280037\n",
      "City: Le Mars. City ID: 4864337\n",
      "City: Vanimo. City ID: 2084442\n",
      "City: San Cristobal. City ID: 3628473\n",
      "City: Westport. City ID: 4845585\n",
      "City: Jardim. City ID: 3460087\n",
      "City: Pangnirtung. City ID: 6096551\n",
      "City: Riyadh. City ID: 108410\n",
      "City: Bengkulu. City ID: 1649150\n",
      "City: Bubaque. City ID: 2374583\n",
      "City: Rio Grande. City ID: 3451138\n",
      "City: Ixtapa. City ID: 4004293\n",
      "City not found\n",
      "City: San Patricio. City ID: 3985168\n",
      "City: Jacareacanga. City ID: 3397763\n",
      "City: Ayr. City ID: 2656708\n",
      "City: Wiang Sa. City ID: 1149878\n",
      "City: Husavik. City ID: 2629833\n",
      "City: Dayong. City ID: 1789289\n",
      "City: Sotouboua. City ID: 2364079\n",
      "City: Kamaishi. City ID: 2112444\n",
      "City: Skeldon. City ID: 3375941\n",
      "City not found\n",
      "City: Narsaq. City ID: 3421719\n",
      "City: Baghlan. City ID: 1147540\n",
      "City: Lethem. City ID: 3379316\n",
      "City: Rumoi. City ID: 2128382\n",
      "City: Akdepe. City ID: 601551\n",
      "City not found\n",
      "City: Loandjili. City ID: 2258378\n",
      "City: Mana. City ID: 3381041\n",
      "City: Yulara. City ID: 6355222\n",
      "City: Statesboro. City ID: 4224413\n",
      "City: Saint Lawrence. City ID: 2562619\n",
      "City: West Plains. City ID: 4414200\n",
      "City: Zharkovskiy. City ID: 463516\n",
      "City: Bulungu. City ID: 2316259\n",
      "City: Beringovskiy. City ID: 2126710\n",
      "City: Santa Fe. City ID: 3836277\n",
      "City: Pimentel. City ID: 3693584\n",
      "City: Faya. City ID: 110690\n",
      "City: Murdochville. City ID: 6943820\n",
      "City: Buala. City ID: 2109528\n",
      "City: Konotop. City ID: 705135\n",
      "City: Imeni Poliny Osipenko. City ID: 2023584\n",
      "City: Salisbury. City ID: 2638664\n",
      "City not found\n",
      "City: Liuhe. City ID: 2036033\n",
      "City: East London. City ID: 1006984\n",
      "City: Itacoatiara. City ID: 3397893\n",
      "City: Piaçabuçu. City ID: 3454005\n",
      "City: Amapá. City ID: 3407762\n",
      "City: Ilulissat. City ID: 3423146\n",
      "City: Dno. City ID: 565885\n",
      "City: Elko. City ID: 5703673\n",
      "City: Tuy Hoa. City ID: 1563281\n",
      "City: Shimoda. City ID: 1852357\n",
      "City: Elizabeth City. City ID: 4465088\n"
     ]
    },
    {
     "name": "stdout",
     "output_type": "stream",
     "text": [
      "City: Warrnambool. City ID: 2144528\n",
      "City: Te Anau. City ID: 2181625\n",
      "City: Payakumbuh. City ID: 1631905\n",
      "City: Vytegra. City ID: 469960\n",
      "City: São Filipe. City ID: 3374210\n",
      "City: Port Elizabeth. City ID: 964420\n",
      "City: Constitución. City ID: 3893726\n",
      "City: Mandalī. City ID: 93709\n",
      "City: Volksrust. City ID: 943032\n",
      "City: Kahului. City ID: 5847411\n",
      "City not found\n",
      "City: Loughrea. City ID: 2962800\n",
      "City: Sitka. City ID: 5557293\n",
      "City: Mayo. City ID: 4362001\n",
      "City: Barroquinha. City ID: 3406041\n",
      "City: Lompoc. City ID: 5367788\n",
      "City: Port Keats. City ID: 2063039\n",
      "City: Buchanan. City ID: 2278158\n",
      "City not found\n",
      "City: Xunchang. City ID: 1787901\n",
      "City not found\n",
      "City: Omsukchan. City ID: 2122493\n",
      "City: Bintulu. City ID: 1737486\n",
      "City: Prince Rupert. City ID: 6113406\n",
      "City: Teluk Nibung. City ID: 1213493\n",
      "City: Coyhaique. City ID: 3894426\n",
      "City: Gorin. City ID: 2023943\n",
      "City: Cairns. City ID: 2172797\n",
      "City: Caucaia. City ID: 3402429\n",
      "City: Saldanha. City ID: 3361934\n",
      "City: Mariehamn. City ID: 3041732\n",
      "City: Antofagasta. City ID: 3899539\n",
      "City: Ahipara. City ID: 2194098\n",
      "City: Roblin. City ID: 6125862\n",
      "City: Kavieng. City ID: 2094342\n",
      "City: Falam. City ID: 1326105\n",
      "City: Klyuchi. City ID: 1503153\n",
      "City not found\n",
      "City: Codrington. City ID: 2171099\n",
      "City: Harindānga. City ID: 1349090\n",
      "City: Felanitx. City ID: 2517750\n",
      "City: Madang. City ID: 2091996\n",
      "City: Saint-Joseph. City ID: 6690296\n",
      "City: Hay River. City ID: 5972762\n",
      "City: Yanam. City ID: 1252795\n",
      "City: São João da Barra. City ID: 3448903\n",
      "City: Morros. City ID: 3394372\n",
      "City: Paracuru. City ID: 3393115\n",
      "City: Qaqortoq. City ID: 3420846\n",
      "City: Solnechnyy. City ID: 2016307\n",
      "City: Sadon. City ID: 525990\n",
      "City: Praia da Vitória. City ID: 3372760\n",
      "City: Nome. City ID: 5870133\n",
      "City: Skopelos Town. City ID: 253581\n",
      "City: Ryōtsu-minato. City ID: 1853371\n",
      "City: Turbaná. City ID: 3666575\n",
      "City: Kapoeta. City ID: 372884\n",
      "City: Guerrero Negro. City ID: 4021858\n",
      "City: Dunedin. City ID: 2191562\n",
      "City: Rokiškis. City ID: 595213\n",
      "City: Saint-Augustin. City ID: 6137462\n",
      "City: Sabang. City ID: 1214026\n",
      "City: Panjāb. City ID: 1131162\n",
      "City: Wanaka. City ID: 2184707\n",
      "City not found\n",
      "City: Panambi. City ID: 3455281\n",
      "City: Kelowna. City ID: 5990579\n",
      "City: Fortuna. City ID: 5563839\n",
      "City: Saýat. City ID: 1218436\n",
      "City: Kalanguy. City ID: 2023298\n",
      "City: Bahía Blanca. City ID: 3865086\n",
      "City: Kargasok. City ID: 1504382\n",
      "City not found\n",
      "City: Fort Morgan. City ID: 5577158\n",
      "City: Waipawa. City ID: 2206874\n",
      "City: Najrān. City ID: 103630\n",
      "City: Vestmannaeyjar. City ID: 3412093\n",
      "City: Bonfim. City ID: 3405215\n",
      "City: Batagay-Alyta. City ID: 2027042\n",
      "City: Itamaraju. City ID: 3460826\n",
      "City: Yerbogachën. City ID: 2012956\n",
      "City: Villa Rica. City ID: 4228452\n",
      "City: Dubovskoye. City ID: 564593\n",
      "City not found\n",
      "City: Gboko. City ID: 2318374\n",
      "City: Lavrentiya. City ID: 4031637\n",
      "City: Nuuk. City ID: 3421319\n",
      "City: Inuvik. City ID: 5983607\n",
      "City: Mount Hagen. City ID: 2090409\n",
      "City: Latung. City ID: 1707108\n",
      "City: Megion. City ID: 1499053\n",
      "City: Heihe. City ID: 2036973\n",
      "City: Payo. City ID: 1638775\n",
      "City: Flinders. City ID: 6255012\n",
      "City: Borovskoy. City ID: 1525121\n",
      "City: Urzhum. City ID: 478532\n",
      "City: Roald. City ID: 3141667\n",
      "City: Sakakah. City ID: 102527\n",
      "City: Dwārka. City ID: 1272140\n",
      "City not found\n",
      "City not found\n",
      "City: Fairbanks. City ID: 5861897\n",
      "City: Yeppoon. City ID: 2142316\n",
      "City: Pemangkat. City ID: 1631637\n",
      "City not found\n",
      "City: Santa Lucía. City ID: 2511150\n",
      "City: Lucea. City ID: 3489657\n",
      "City: Tabuleiro do Norte. City ID: 3386984\n",
      "City: Meulaboh. City ID: 1214488\n",
      "City: Berbera. City ID: 64435\n",
      "City: Baoqing. City ID: 2038446\n",
      "City: Nieuw Nickerie. City ID: 3383427\n",
      "City: Bahādurganj. City ID: 1277836\n",
      "City: Estrela. City ID: 3463762\n",
      "City: Rønne. City ID: 2614553\n",
      "City not found\n",
      "City: Mossamedes. City ID: 3347019\n",
      "City: Aklavik. City ID: 5882953\n",
      "City: Utete. City ID: 149070\n",
      "City: Ikom. City ID: 2338242\n",
      "City: Ariquemes. City ID: 3665199\n",
      "City: High Prairie. City ID: 5975034\n",
      "City: Saint-Pierre. City ID: 935214\n",
      "City: Jérémie. City ID: 3723593\n",
      "City: Kampong Thom. City ID: 1831125\n",
      "City: Turukhansk. City ID: 1488903\n",
      "City: Smithers. City ID: 6149996\n",
      "City: Kavaratti. City ID: 1267390\n",
      "City: Hualmay. City ID: 3939761\n",
      "City: Zorgo. City ID: 2353197\n",
      "City: Alvdal. City ID: 3163269\n",
      "City: Linqiong. City ID: 1803365\n",
      "City: Palana. City ID: 2122262\n",
      "City: Ulladulla. City ID: 2145554\n",
      "City: Bac Lieu. City ID: 1591474\n",
      "City: Örnsköldsvik. City ID: 2686469\n",
      "City: Beaufort. City ID: 1733874\n",
      "City: Narrabri. City ID: 2155742\n",
      "City: Three Hills. City ID: 6165875\n",
      "City: Teknāf. City ID: 1185095\n",
      "City: Gorontalo. City ID: 1643837\n",
      "City: Ban Nahin. City ID: 1661950\n",
      "City: Sørland. City ID: 3137469\n",
      "City: Belyy Yar. City ID: 1510377\n",
      "City not found\n",
      "City: Yuli. City ID: 2317982\n",
      "City: Shalinskoye. City ID: 1492466\n",
      "City: Ternate. City ID: 1624041\n",
      "City: Joshīmath. City ID: 1268814\n",
      "City: Iralaya. City ID: 3608828\n",
      "City: Markova. City ID: 701802\n",
      "City: Noyabrsk. City ID: 1496503\n",
      "City: Knyaginino. City ID: 547162\n",
      "City: Nuevo Progreso. City ID: 3522526\n",
      "City: Palu. City ID: 1633034\n",
      "City: Oriximiná. City ID: 3393471\n",
      "City: Tateyama. City ID: 1850523\n",
      "City: Ucluelet. City ID: 6171633\n",
      "City: Nelson Bay. City ID: 2155562\n",
      "City: Alice Springs. City ID: 2077895\n",
      "City: Wundanyi. City ID: 178073\n",
      "City: Belaya Gora. City ID: 2126785\n",
      "City: Rørvik. City ID: 3141310\n",
      "City: Oteşani. City ID: 671600\n",
      "City: San Quintín. City ID: 3984997\n",
      "City: Žarnovica. City ID: 3056589\n",
      "City: Nivala. City ID: 644499\n",
      "City: Markivka. City ID: 701792\n",
      "City: Dolores. City ID: 3435038\n",
      "City: Pachino. City ID: 6539213\n",
      "City: Madingou. City ID: 2257990\n",
      "City: Freetown. City ID: 2409306\n",
      "City: Abalak. City ID: 1512223\n",
      "City: Jega. City ID: 2336237\n",
      "City: Hamilton. City ID: 4513583\n",
      "City: Concordia. City ID: 3435261\n",
      "City: Al Bardīyah. City ID: 80509\n",
      "City not found\n",
      "City: Maracaçumé. City ID: 3395497\n",
      "City: Port Blair. City ID: 1259385\n",
      "City: Cukai. City ID: 1732945\n",
      "City: Kibala. City ID: 2425791\n",
      "City: Torbay. City ID: 6167817\n",
      "City: Lebanon. City ID: 4636045\n",
      "City: Shahr-e Bābak. City ID: 115781\n",
      "City: Tanete. City ID: 1629965\n",
      "City: Constantine. City ID: 2501152\n",
      "City: Havøysund. City ID: 779622\n",
      "City: Cayenne. City ID: 3382160\n",
      "City: Ten'gushevo. City ID: 483642\n",
      "City: Rivne. City ID: 695594\n",
      "City: Parakou. City ID: 2392204\n",
      "City: Severnyy. City ID: 496358\n",
      "City: Uarini. City ID: 3661756\n",
      "City: Puerto Carreño. City ID: 3671519\n",
      "City not found\n",
      "City: Camacha. City ID: 2270385\n",
      "City: Puerto Escondido. City ID: 3520994\n",
      "City: Fare. City ID: 4034496\n",
      "City: Talnakh. City ID: 1490256\n",
      "City: Poum. City ID: 2138555\n",
      "City: Ubari. City ID: 2219235\n",
      "City: Atasū. City ID: 1526041\n",
      "City: Alindao. City ID: 240999\n",
      "City: Tālbahat. City ID: 1255146\n",
      "City: Port Hawkesbury. City ID: 6111867\n",
      "City: Chengzhong. City ID: 1786640\n",
      "City: Cartagena. City ID: 3687238\n",
      "City: Beyla. City ID: 2423126\n",
      "City: Naze. City ID: 1855540\n",
      "City: Krasne. City ID: 704277\n",
      "City: Gamba. City ID: 2400547\n",
      "City: Ziarat. City ID: 1162094\n",
      "City: Thinadhoo. City ID: 1337610\n",
      "City: Gandajika. City ID: 216449\n",
      "City: Ribnitz-Damgarten. City ID: 2847524\n",
      "City: Vao. City ID: 2137773\n",
      "City: Chala. City ID: 160670\n",
      "City: Sassandra. City ID: 2281951\n",
      "City: Kruisfontein. City ID: 986717\n",
      "City: Yar-Sale. City ID: 1486321\n",
      "City: Foz. City ID: 3122172\n",
      "City: Rybinsk. City ID: 500004\n",
      "City: Bozeman. City ID: 5641727\n",
      "City not found\n",
      "City: Vegreville. City ID: 6173635\n",
      "City: Laguna. City ID: 5364271\n",
      "City: Hambantota. City ID: 1244926\n",
      "City: Weligama. City ID: 1223738\n",
      "City not found\n",
      "City: Lago da Pedra. City ID: 3396601\n",
      "City: Danielskuil. City ID: 1011918\n",
      "City: Saquena. City ID: 3692020\n",
      "City: Fokino. City ID: 2015310\n",
      "City not found\n",
      "City: Wiarton. City ID: 6186122\n",
      "City: Walvis Bay. City ID: 3359638\n",
      "City: Przhevalskoye. City ID: 514127\n",
      "City: Opuwo. City ID: 3354077\n",
      "City: Lorengau. City ID: 2092164\n",
      "City: Pauini. City ID: 3662927\n",
      "City: Zima. City ID: 2012484\n",
      "City: Khasan. City ID: 2039557\n",
      "City not found\n",
      "City: Strezhevoy. City ID: 1490796\n",
      "City: Coquimbo. City ID: 3893629\n",
      "City: La Plata. City ID: 3432043\n",
      "City: Deputatsky. City ID: 2028164\n",
      "City: Kokopo. City ID: 2093685\n",
      "City: Jalu. City ID: 86049\n",
      "City: Ambunti. City ID: 2100933\n",
      "City: Sambava. City ID: 1056899\n",
      "City: Qusar. City ID: 585220\n",
      "City: Izhevskoye. City ID: 554836\n",
      "City: Lagoa. City ID: 3372964\n",
      "City: Salalah. City ID: 286621\n",
      "City: Harlingen. City ID: 4696233\n",
      "City: Asău. City ID: 686090\n",
      "City: Prome. City ID: 1299154\n",
      "City: Rocha. City ID: 3440777\n"
     ]
    },
    {
     "name": "stdout",
     "output_type": "stream",
     "text": [
      "City: Tibiri. City ID: 2438774\n",
      "City: Kampene. City ID: 214575\n",
      "City: Plettenberg Bay. City ID: 964712\n",
      "City: Laureles. City ID: 4705564\n",
      "City: Padang. City ID: 1633419\n",
      "City: Comodoro Rivadavia. City ID: 3860443\n",
      "City: Feijó. City ID: 3664243\n",
      "City: Kemijärvi. City ID: 653272\n",
      "City: Kanniyākumāri. City ID: 1268008\n",
      "City not found\n",
      "City: Srandakan. City ID: 1626493\n",
      "City: Srednekolymsk. City ID: 2121025\n",
      "City: Santo Ângelo. City ID: 3449696\n",
      "City: Evensk. City ID: 2125693\n",
      "City: Ust'-Kut. City ID: 2013923\n",
      "City: Hīt. City ID: 95788\n",
      "City not found\n",
      "City not found\n",
      "City: Oodweyne. City ID: 53372\n",
      "City: Elliot. City ID: 1005781\n",
      "City: Aitape. City ID: 2101169\n",
      "City: North Bend. City ID: 5742974\n",
      "City: Kumul. City ID: 1529484\n",
      "City: Great Yarmouth. City ID: 2647984\n",
      "City: Bratsk. City ID: 2051523\n",
      "City: Kantunilkín. City ID: 3822702\n",
      "City: Dobšiná. City ID: 724893\n",
      "City: Muros. City ID: 3115824\n",
      "City: Luanda. City ID: 2240449\n",
      "City: Skjervøy. City ID: 777682\n",
      "City: Jatibonico. City ID: 3556334\n",
      "City: Maputo. City ID: 1040652\n",
      "City: Gazli. City ID: 1513990\n",
      "City: Nushki. City ID: 1168749\n",
      "City: Hirara. City ID: 1862505\n",
      "City: Fallon. City ID: 5503914\n",
      "City: Nouadhibou. City ID: 2377457\n",
      "City: Olafsvik. City ID: 3414079\n",
      "City: Tharād. City ID: 1254638\n",
      "City not found\n",
      "City: Krasnoyarskiy. City ID: 542133\n",
      "City: Micheweni. City ID: 153955\n",
      "City: Jasper. City ID: 4392354\n",
      "City: Jinsha. City ID: 1805408\n",
      "City: Ahar. City ID: 144616\n",
      "City: Broome. City ID: 5110365\n",
      "City: Peniche. City ID: 2264923\n",
      "City: Sioux Lookout. City ID: 6148373\n",
      "City: Bahir Dar. City ID: 342884\n",
      "City not found\n",
      "City: Qandala. City ID: 53157\n",
      "City not found\n",
      "City: Yumen. City ID: 1528998\n",
      "City: Monrovia. City ID: 2274895\n",
      "City: Stornoway. City ID: 2636790\n",
      "City: Dunmore East. City ID: 2964492\n",
      "City: Zaporizhia. City ID: 687700\n",
      "City: El Espinal. City ID: 3528975\n",
      "City: West Fargo. City ID: 5062458\n",
      "City: Alyangula. City ID: 2079582\n",
      "City: Cheb. City ID: 3077835\n",
      "City: Rafai. City ID: 236524\n",
      "City: Erenhot. City ID: 2037485\n",
      "City: Abhā. City ID: 110690\n",
      "City: Haikou. City ID: 1809078\n",
      "City: Port Hardy. City ID: 6111862\n",
      "City: Río Cuarto. City ID: 3838874\n",
      "City: Batasan. City ID: 1726249\n",
      "City: Sistranda. City ID: 3139597\n",
      "City: Şebinkarahisar. City ID: 739914\n",
      "City not found\n",
      "City: Bafoulabé. City ID: 2460755\n",
      "City: Praia. City ID: 3374333\n",
      "City: Kulhudhuffushi. City ID: 1337613\n",
      "City: Sangar. City ID: 2017215\n",
      "City: Vila Franca do Campo. City ID: 3372472\n",
      "City: Sisimiut. City ID: 3419842\n",
      "City: Nālūt. City ID: 2214432\n",
      "City: Halifax. City ID: 6324729\n",
      "City not found\n",
      "City: Killam. City ID: 5991888\n",
      "City: Dondaicha. City ID: 1272411\n",
      "City: Cururupu. City ID: 3401148\n",
      "City: Praia. City ID: 3374333\n",
      "City: Pontes e Lacerda. City ID: 3453060\n",
      "City: Qui Nhon. City ID: 1568574\n",
      "City: Kedrovyy. City ID: 1538641\n",
      "City: Calama. City ID: 3897347\n",
      "City: Lundamo. City ID: 3146831\n",
      "City: Kloulklubed. City ID: 7671223\n",
      "City: Vila Velha. City ID: 3445026\n",
      "City: Krasnosel'kup. City ID: 1502073\n",
      "City: Vardø. City ID: 777019\n",
      "City not found\n",
      "City: Tete. City ID: 1026014\n",
      "City: Iqaluit. City ID: 5983720\n",
      "City: San Miguel. City ID: 3583446\n",
      "City not found\n",
      "City: Nurota. City ID: 1513087\n",
      "City: Hitoyoshi. City ID: 1862352\n",
      "City: Namatanai. City ID: 2090021\n",
      "City: Serebryansk. City ID: 1519395\n",
      "City: Sittwe. City ID: 1295765\n",
      "City: Fort Saint James. City ID: 5881688\n"
     ]
    }
   ],
   "source": [
    "\n",
    "\n",
    "# create empty lists \n",
    "city_name = []\n",
    "lat = []\n",
    "lng = []\n",
    "max_temp = []\n",
    "humidity = []\n",
    "cloudiness = []\n",
    "wind_speed = []\n",
    "country = []\n",
    "date = []\n",
    "#loop through lists\n",
    "for city in cities:\n",
    "    response = requests.get(query_url + city)\n",
    "    response_json = response.json()\n",
    "    try:\n",
    "        city_name.append(response_json['name'])\n",
    "        lat.append(response_json['coord']['lat'])\n",
    "        lng.append(response_json['coord']['lon'])\n",
    "        max_temp.append(response_json['main']['temp_max'])\n",
    "        humidity.append(response_json['main']['humidity'])\n",
    "        cloudiness.append(response_json['clouds']['all'])\n",
    "        wind_speed.append(response_json['wind']['speed'])\n",
    "        country.append(response_json['sys']['country'])\n",
    "        date.append(response_json['dt'])\n",
    "        print(f\"City: {response_json['name']}. City ID: {response_json['id']}\")\n",
    "    except KeyError:\n",
    "        pass\n",
    "        print(\"City: not found\")\n",
    "        "
   ]
  },
  {
   "cell_type": "code",
   "execution_count": 65,
   "metadata": {},
   "outputs": [
    {
     "name": "stdout",
     "output_type": "stream",
     "text": [
      "{'cod': '404', 'message': 'city not found'}\n"
     ]
    }
   ],
   "source": [
    "print(response_json)"
   ]
  },
  {
   "cell_type": "code",
   "execution_count": 75,
   "metadata": {
    "scrolled": false
   },
   "outputs": [],
   "source": [
    "# # # test to make sure things work\n",
    "# # test_city='New York'\n",
    "# test_query_url = url + \"appid=\" + api_key + \"&q=\" + city\n",
    "\n",
    "# weather_response = requests.get(test_query_url)\n",
    "# weather_json = weather_response.json()\n",
    "\n",
    "# # # Get the temperature from the response\n",
    "# # print(f\"The weather API responded with: {weather_json}.\")\n",
    "# pprint(weather_json)"
   ]
  },
  {
   "cell_type": "markdown",
   "metadata": {},
   "source": [
    "### Convert Raw Data to DataFrame\n",
    "* Export the city data into a .csv.\n",
    "* Display the DataFrame"
   ]
  },
  {
   "cell_type": "code",
   "execution_count": 83,
   "metadata": {},
   "outputs": [
    {
     "data": {
      "text/html": [
       "<div>\n",
       "<style scoped>\n",
       "    .dataframe tbody tr th:only-of-type {\n",
       "        vertical-align: middle;\n",
       "    }\n",
       "\n",
       "    .dataframe tbody tr th {\n",
       "        vertical-align: top;\n",
       "    }\n",
       "\n",
       "    .dataframe thead th {\n",
       "        text-align: right;\n",
       "    }\n",
       "</style>\n",
       "<table border=\"1\" class=\"dataframe\">\n",
       "  <thead>\n",
       "    <tr style=\"text-align: right;\">\n",
       "      <th></th>\n",
       "      <th>City</th>\n",
       "      <th>Lat</th>\n",
       "      <th>Long</th>\n",
       "      <th>Max Temp</th>\n",
       "      <th>Humidity</th>\n",
       "      <th>Cloudiness (%)</th>\n",
       "      <th>Wind Speed (m/s)</th>\n",
       "      <th>Country</th>\n",
       "      <th>Date</th>\n",
       "    </tr>\n",
       "  </thead>\n",
       "  <tbody>\n",
       "    <tr>\n",
       "      <th>0</th>\n",
       "      <td>Atuona</td>\n",
       "      <td>-9.80</td>\n",
       "      <td>-139.03</td>\n",
       "      <td>299.33</td>\n",
       "      <td>78</td>\n",
       "      <td>11</td>\n",
       "      <td>9.96</td>\n",
       "      <td>PF</td>\n",
       "      <td>1596041118</td>\n",
       "    </tr>\n",
       "    <tr>\n",
       "      <th>1</th>\n",
       "      <td>Albany</td>\n",
       "      <td>42.60</td>\n",
       "      <td>-73.97</td>\n",
       "      <td>304.26</td>\n",
       "      <td>33</td>\n",
       "      <td>6</td>\n",
       "      <td>2.57</td>\n",
       "      <td>US</td>\n",
       "      <td>1596040879</td>\n",
       "    </tr>\n",
       "    <tr>\n",
       "      <th>2</th>\n",
       "      <td>Trairi</td>\n",
       "      <td>-3.28</td>\n",
       "      <td>-39.27</td>\n",
       "      <td>303.04</td>\n",
       "      <td>51</td>\n",
       "      <td>0</td>\n",
       "      <td>6.38</td>\n",
       "      <td>BR</td>\n",
       "      <td>1596041118</td>\n",
       "    </tr>\n",
       "    <tr>\n",
       "      <th>3</th>\n",
       "      <td>Mataura</td>\n",
       "      <td>-46.19</td>\n",
       "      <td>168.86</td>\n",
       "      <td>281.88</td>\n",
       "      <td>90</td>\n",
       "      <td>100</td>\n",
       "      <td>1.63</td>\n",
       "      <td>NZ</td>\n",
       "      <td>1596041227</td>\n",
       "    </tr>\n",
       "    <tr>\n",
       "      <th>4</th>\n",
       "      <td>Qaanaaq</td>\n",
       "      <td>77.48</td>\n",
       "      <td>-69.36</td>\n",
       "      <td>279.09</td>\n",
       "      <td>73</td>\n",
       "      <td>73</td>\n",
       "      <td>0.90</td>\n",
       "      <td>GL</td>\n",
       "      <td>1596041227</td>\n",
       "    </tr>\n",
       "    <tr>\n",
       "      <th>...</th>\n",
       "      <td>...</td>\n",
       "      <td>...</td>\n",
       "      <td>...</td>\n",
       "      <td>...</td>\n",
       "      <td>...</td>\n",
       "      <td>...</td>\n",
       "      <td>...</td>\n",
       "      <td>...</td>\n",
       "      <td>...</td>\n",
       "    </tr>\n",
       "    <tr>\n",
       "      <th>567</th>\n",
       "      <td>Hitoyoshi</td>\n",
       "      <td>32.22</td>\n",
       "      <td>130.75</td>\n",
       "      <td>295.22</td>\n",
       "      <td>86</td>\n",
       "      <td>0</td>\n",
       "      <td>0.58</td>\n",
       "      <td>JP</td>\n",
       "      <td>1596041461</td>\n",
       "    </tr>\n",
       "    <tr>\n",
       "      <th>568</th>\n",
       "      <td>Namatanai</td>\n",
       "      <td>-3.67</td>\n",
       "      <td>152.43</td>\n",
       "      <td>299.27</td>\n",
       "      <td>79</td>\n",
       "      <td>9</td>\n",
       "      <td>2.18</td>\n",
       "      <td>PG</td>\n",
       "      <td>1596041462</td>\n",
       "    </tr>\n",
       "    <tr>\n",
       "      <th>569</th>\n",
       "      <td>Serebryansk</td>\n",
       "      <td>49.69</td>\n",
       "      <td>83.29</td>\n",
       "      <td>291.15</td>\n",
       "      <td>77</td>\n",
       "      <td>75</td>\n",
       "      <td>3.00</td>\n",
       "      <td>KZ</td>\n",
       "      <td>1596041462</td>\n",
       "    </tr>\n",
       "    <tr>\n",
       "      <th>570</th>\n",
       "      <td>Sittwe</td>\n",
       "      <td>20.15</td>\n",
       "      <td>92.90</td>\n",
       "      <td>301.30</td>\n",
       "      <td>85</td>\n",
       "      <td>100</td>\n",
       "      <td>3.61</td>\n",
       "      <td>MM</td>\n",
       "      <td>1596041462</td>\n",
       "    </tr>\n",
       "    <tr>\n",
       "      <th>571</th>\n",
       "      <td>Fort Saint James</td>\n",
       "      <td>54.43</td>\n",
       "      <td>-124.25</td>\n",
       "      <td>291.72</td>\n",
       "      <td>43</td>\n",
       "      <td>93</td>\n",
       "      <td>1.72</td>\n",
       "      <td>CA</td>\n",
       "      <td>1596041462</td>\n",
       "    </tr>\n",
       "  </tbody>\n",
       "</table>\n",
       "<p>572 rows × 9 columns</p>\n",
       "</div>"
      ],
      "text/plain": [
       "                 City    Lat    Long  Max Temp  Humidity  Cloudiness (%)  \\\n",
       "0              Atuona  -9.80 -139.03    299.33        78              11   \n",
       "1              Albany  42.60  -73.97    304.26        33               6   \n",
       "2              Trairi  -3.28  -39.27    303.04        51               0   \n",
       "3             Mataura -46.19  168.86    281.88        90             100   \n",
       "4             Qaanaaq  77.48  -69.36    279.09        73              73   \n",
       "..                ...    ...     ...       ...       ...             ...   \n",
       "567         Hitoyoshi  32.22  130.75    295.22        86               0   \n",
       "568         Namatanai  -3.67  152.43    299.27        79               9   \n",
       "569       Serebryansk  49.69   83.29    291.15        77              75   \n",
       "570            Sittwe  20.15   92.90    301.30        85             100   \n",
       "571  Fort Saint James  54.43 -124.25    291.72        43              93   \n",
       "\n",
       "     Wind Speed (m/s) Country        Date  \n",
       "0                9.96      PF  1596041118  \n",
       "1                2.57      US  1596040879  \n",
       "2                6.38      BR  1596041118  \n",
       "3                1.63      NZ  1596041227  \n",
       "4                0.90      GL  1596041227  \n",
       "..                ...     ...         ...  \n",
       "567              0.58      JP  1596041461  \n",
       "568              2.18      PG  1596041462  \n",
       "569              3.00      KZ  1596041462  \n",
       "570              3.61      MM  1596041462  \n",
       "571              1.72      CA  1596041462  \n",
       "\n",
       "[572 rows x 9 columns]"
      ]
     },
     "execution_count": 83,
     "metadata": {},
     "output_type": "execute_result"
    }
   ],
   "source": [
    "#make a dictionary and turn it into a dataframe\n",
    "weather_dict = {\"City\": city_name, \n",
    "                \"Lat\": lat, \n",
    "                \"Long\": lng, \n",
    "                \"Max Temp\": max_temp, \n",
    "                \"Humidity\": humidity, \n",
    "                \"Cloudiness (%)\": cloudiness, \n",
    "                \"Wind Speed (m/s)\": wind_speed, \n",
    "                \"Country\": country, \n",
    "                \"Date\": date}\n",
    "\n",
    "weather_df = pd.DataFrame(weather_dict)\n",
    "# weather_pd.head(15)\n",
    "weather_df.count()\n",
    "weather_df.to_csv('weather_df.csv', index=False)\n",
    "new_df=pd.read_csv('weather_df.csv')\n",
    "weather_df"
   ]
  },
  {
   "cell_type": "code",
   "execution_count": 5,
   "metadata": {},
   "outputs": [
    {
     "data": {
      "text/html": [
       "<div>\n",
       "<style scoped>\n",
       "    .dataframe tbody tr th:only-of-type {\n",
       "        vertical-align: middle;\n",
       "    }\n",
       "\n",
       "    .dataframe tbody tr th {\n",
       "        vertical-align: top;\n",
       "    }\n",
       "\n",
       "    .dataframe thead th {\n",
       "        text-align: right;\n",
       "    }\n",
       "</style>\n",
       "<table border=\"1\" class=\"dataframe\">\n",
       "  <thead>\n",
       "    <tr style=\"text-align: right;\">\n",
       "      <th></th>\n",
       "      <th>City</th>\n",
       "      <th>Lat</th>\n",
       "      <th>Lng</th>\n",
       "      <th>Max Temp</th>\n",
       "      <th>Humidity</th>\n",
       "      <th>Cloudiness</th>\n",
       "      <th>Wind Speed</th>\n",
       "      <th>Country</th>\n",
       "      <th>Date</th>\n",
       "    </tr>\n",
       "  </thead>\n",
       "  <tbody>\n",
       "    <tr>\n",
       "      <th>0</th>\n",
       "      <td>pimentel</td>\n",
       "      <td>-6.84</td>\n",
       "      <td>-79.93</td>\n",
       "      <td>66.20</td>\n",
       "      <td>29</td>\n",
       "      <td>75</td>\n",
       "      <td>5.82</td>\n",
       "      <td>PE</td>\n",
       "      <td>1585764415</td>\n",
       "    </tr>\n",
       "    <tr>\n",
       "      <th>1</th>\n",
       "      <td>victoria</td>\n",
       "      <td>22.29</td>\n",
       "      <td>114.16</td>\n",
       "      <td>69.01</td>\n",
       "      <td>88</td>\n",
       "      <td>40</td>\n",
       "      <td>18.34</td>\n",
       "      <td>HK</td>\n",
       "      <td>1585764288</td>\n",
       "    </tr>\n",
       "    <tr>\n",
       "      <th>2</th>\n",
       "      <td>padang</td>\n",
       "      <td>-0.95</td>\n",
       "      <td>100.35</td>\n",
       "      <td>79.90</td>\n",
       "      <td>75</td>\n",
       "      <td>99</td>\n",
       "      <td>1.63</td>\n",
       "      <td>ID</td>\n",
       "      <td>1585764115</td>\n",
       "    </tr>\n",
       "    <tr>\n",
       "      <th>3</th>\n",
       "      <td>hasaki</td>\n",
       "      <td>35.73</td>\n",
       "      <td>140.83</td>\n",
       "      <td>55.00</td>\n",
       "      <td>100</td>\n",
       "      <td>75</td>\n",
       "      <td>4.70</td>\n",
       "      <td>JP</td>\n",
       "      <td>1585764415</td>\n",
       "    </tr>\n",
       "    <tr>\n",
       "      <th>4</th>\n",
       "      <td>kahului</td>\n",
       "      <td>20.89</td>\n",
       "      <td>-156.47</td>\n",
       "      <td>70.00</td>\n",
       "      <td>88</td>\n",
       "      <td>1</td>\n",
       "      <td>7.63</td>\n",
       "      <td>US</td>\n",
       "      <td>1585764415</td>\n",
       "    </tr>\n",
       "  </tbody>\n",
       "</table>\n",
       "</div>"
      ],
      "text/plain": [
       "       City    Lat     Lng  Max Temp  Humidity  Cloudiness  Wind Speed  \\\n",
       "0  pimentel  -6.84  -79.93     66.20        29          75        5.82   \n",
       "1  victoria  22.29  114.16     69.01        88          40       18.34   \n",
       "2    padang  -0.95  100.35     79.90        75          99        1.63   \n",
       "3    hasaki  35.73  140.83     55.00       100          75        4.70   \n",
       "4   kahului  20.89 -156.47     70.00        88           1        7.63   \n",
       "\n",
       "  Country        Date  \n",
       "0      PE  1585764415  \n",
       "1      HK  1585764288  \n",
       "2      ID  1585764115  \n",
       "3      JP  1585764415  \n",
       "4      US  1585764415  "
      ]
     },
     "execution_count": 5,
     "metadata": {},
     "output_type": "execute_result"
    }
   ],
   "source": []
  },
  {
   "cell_type": "code",
   "execution_count": 50,
   "metadata": {},
   "outputs": [
    {
     "name": "stdout",
     "output_type": "stream",
     "text": [
      "['Atuona', 'Albany', 'Trairi', 'Mataura', 'Qaanaaq', 'Hobart', 'Ushuaia', 'Barrow', 'The Valley', 'Richards Bay', 'Avarua', 'Yellowknife', 'Palekastro', 'Tual', 'Lebu', 'Bethel', 'Zambezi', 'Saint-Philippe', 'Tessalit', 'Bathsheba']\n"
     ]
    }
   ],
   "source": [
    "print(city_name)"
   ]
  },
  {
   "cell_type": "markdown",
   "metadata": {},
   "source": [
    "## Inspect the data and remove the cities where the humidity > 100%.\n",
    "----\n",
    "Skip this step if there are no cities that have humidity > 100%. "
   ]
  },
  {
   "cell_type": "code",
   "execution_count": 88,
   "metadata": {},
   "outputs": [
    {
     "data": {
      "text/html": [
       "<div>\n",
       "<style scoped>\n",
       "    .dataframe tbody tr th:only-of-type {\n",
       "        vertical-align: middle;\n",
       "    }\n",
       "\n",
       "    .dataframe tbody tr th {\n",
       "        vertical-align: top;\n",
       "    }\n",
       "\n",
       "    .dataframe thead th {\n",
       "        text-align: right;\n",
       "    }\n",
       "</style>\n",
       "<table border=\"1\" class=\"dataframe\">\n",
       "  <thead>\n",
       "    <tr style=\"text-align: right;\">\n",
       "      <th></th>\n",
       "      <th>City</th>\n",
       "      <th>Lat</th>\n",
       "      <th>Long</th>\n",
       "      <th>Max Temp</th>\n",
       "      <th>Humidity</th>\n",
       "      <th>Cloudiness (%)</th>\n",
       "      <th>Wind Speed (m/s)</th>\n",
       "      <th>Country</th>\n",
       "      <th>Date</th>\n",
       "    </tr>\n",
       "  </thead>\n",
       "  <tbody>\n",
       "  </tbody>\n",
       "</table>\n",
       "</div>"
      ],
      "text/plain": [
       "Empty DataFrame\n",
       "Columns: [City, Lat, Long, Max Temp, Humidity, Cloudiness (%), Wind Speed (m/s), Country, Date]\n",
       "Index: []"
      ]
     },
     "execution_count": 88,
     "metadata": {},
     "output_type": "execute_result"
    }
   ],
   "source": [
    "weather_df.loc[(weather_df['Humidity']>100)]\n",
    "#no cities with humidity above 100%"
   ]
  },
  {
   "cell_type": "code",
   "execution_count": 94,
   "metadata": {},
   "outputs": [
    {
     "data": {
      "text/plain": [
       "[]"
      ]
     },
     "execution_count": 94,
     "metadata": {},
     "output_type": "execute_result"
    }
   ],
   "source": [
    "#  Get the indices of cities that have humidity over 100%.\n",
    "humidity_outlier = weather_df.loc[(weather_df['Humidity']>100)].index.tolist()\n",
    "humidity_outlier"
   ]
  },
  {
   "cell_type": "code",
   "execution_count": 99,
   "metadata": {
    "scrolled": true
   },
   "outputs": [
    {
     "data": {
      "text/html": [
       "<div>\n",
       "<style scoped>\n",
       "    .dataframe tbody tr th:only-of-type {\n",
       "        vertical-align: middle;\n",
       "    }\n",
       "\n",
       "    .dataframe tbody tr th {\n",
       "        vertical-align: top;\n",
       "    }\n",
       "\n",
       "    .dataframe thead th {\n",
       "        text-align: right;\n",
       "    }\n",
       "</style>\n",
       "<table border=\"1\" class=\"dataframe\">\n",
       "  <thead>\n",
       "    <tr style=\"text-align: right;\">\n",
       "      <th></th>\n",
       "      <th>City</th>\n",
       "      <th>Lat</th>\n",
       "      <th>Long</th>\n",
       "      <th>Max Temp</th>\n",
       "      <th>Humidity</th>\n",
       "      <th>Cloudiness (%)</th>\n",
       "      <th>Wind Speed (m/s)</th>\n",
       "      <th>Country</th>\n",
       "      <th>Date</th>\n",
       "    </tr>\n",
       "  </thead>\n",
       "  <tbody>\n",
       "    <tr>\n",
       "      <th>0</th>\n",
       "      <td>Atuona</td>\n",
       "      <td>-9.80</td>\n",
       "      <td>-139.03</td>\n",
       "      <td>299.33</td>\n",
       "      <td>78</td>\n",
       "      <td>11</td>\n",
       "      <td>9.96</td>\n",
       "      <td>PF</td>\n",
       "      <td>1596041118</td>\n",
       "    </tr>\n",
       "    <tr>\n",
       "      <th>1</th>\n",
       "      <td>Albany</td>\n",
       "      <td>42.60</td>\n",
       "      <td>-73.97</td>\n",
       "      <td>304.26</td>\n",
       "      <td>33</td>\n",
       "      <td>6</td>\n",
       "      <td>2.57</td>\n",
       "      <td>US</td>\n",
       "      <td>1596040879</td>\n",
       "    </tr>\n",
       "    <tr>\n",
       "      <th>2</th>\n",
       "      <td>Trairi</td>\n",
       "      <td>-3.28</td>\n",
       "      <td>-39.27</td>\n",
       "      <td>303.04</td>\n",
       "      <td>51</td>\n",
       "      <td>0</td>\n",
       "      <td>6.38</td>\n",
       "      <td>BR</td>\n",
       "      <td>1596041118</td>\n",
       "    </tr>\n",
       "    <tr>\n",
       "      <th>3</th>\n",
       "      <td>Mataura</td>\n",
       "      <td>-46.19</td>\n",
       "      <td>168.86</td>\n",
       "      <td>281.88</td>\n",
       "      <td>90</td>\n",
       "      <td>100</td>\n",
       "      <td>1.63</td>\n",
       "      <td>NZ</td>\n",
       "      <td>1596041227</td>\n",
       "    </tr>\n",
       "    <tr>\n",
       "      <th>4</th>\n",
       "      <td>Qaanaaq</td>\n",
       "      <td>77.48</td>\n",
       "      <td>-69.36</td>\n",
       "      <td>279.09</td>\n",
       "      <td>73</td>\n",
       "      <td>73</td>\n",
       "      <td>0.90</td>\n",
       "      <td>GL</td>\n",
       "      <td>1596041227</td>\n",
       "    </tr>\n",
       "    <tr>\n",
       "      <th>...</th>\n",
       "      <td>...</td>\n",
       "      <td>...</td>\n",
       "      <td>...</td>\n",
       "      <td>...</td>\n",
       "      <td>...</td>\n",
       "      <td>...</td>\n",
       "      <td>...</td>\n",
       "      <td>...</td>\n",
       "      <td>...</td>\n",
       "    </tr>\n",
       "    <tr>\n",
       "      <th>567</th>\n",
       "      <td>Hitoyoshi</td>\n",
       "      <td>32.22</td>\n",
       "      <td>130.75</td>\n",
       "      <td>295.22</td>\n",
       "      <td>86</td>\n",
       "      <td>0</td>\n",
       "      <td>0.58</td>\n",
       "      <td>JP</td>\n",
       "      <td>1596041461</td>\n",
       "    </tr>\n",
       "    <tr>\n",
       "      <th>568</th>\n",
       "      <td>Namatanai</td>\n",
       "      <td>-3.67</td>\n",
       "      <td>152.43</td>\n",
       "      <td>299.27</td>\n",
       "      <td>79</td>\n",
       "      <td>9</td>\n",
       "      <td>2.18</td>\n",
       "      <td>PG</td>\n",
       "      <td>1596041462</td>\n",
       "    </tr>\n",
       "    <tr>\n",
       "      <th>569</th>\n",
       "      <td>Serebryansk</td>\n",
       "      <td>49.69</td>\n",
       "      <td>83.29</td>\n",
       "      <td>291.15</td>\n",
       "      <td>77</td>\n",
       "      <td>75</td>\n",
       "      <td>3.00</td>\n",
       "      <td>KZ</td>\n",
       "      <td>1596041462</td>\n",
       "    </tr>\n",
       "    <tr>\n",
       "      <th>570</th>\n",
       "      <td>Sittwe</td>\n",
       "      <td>20.15</td>\n",
       "      <td>92.90</td>\n",
       "      <td>301.30</td>\n",
       "      <td>85</td>\n",
       "      <td>100</td>\n",
       "      <td>3.61</td>\n",
       "      <td>MM</td>\n",
       "      <td>1596041462</td>\n",
       "    </tr>\n",
       "    <tr>\n",
       "      <th>571</th>\n",
       "      <td>Fort Saint James</td>\n",
       "      <td>54.43</td>\n",
       "      <td>-124.25</td>\n",
       "      <td>291.72</td>\n",
       "      <td>43</td>\n",
       "      <td>93</td>\n",
       "      <td>1.72</td>\n",
       "      <td>CA</td>\n",
       "      <td>1596041462</td>\n",
       "    </tr>\n",
       "  </tbody>\n",
       "</table>\n",
       "<p>572 rows × 9 columns</p>\n",
       "</div>"
      ],
      "text/plain": [
       "                 City    Lat    Long  Max Temp  Humidity  Cloudiness (%)  \\\n",
       "0              Atuona  -9.80 -139.03    299.33        78              11   \n",
       "1              Albany  42.60  -73.97    304.26        33               6   \n",
       "2              Trairi  -3.28  -39.27    303.04        51               0   \n",
       "3             Mataura -46.19  168.86    281.88        90             100   \n",
       "4             Qaanaaq  77.48  -69.36    279.09        73              73   \n",
       "..                ...    ...     ...       ...       ...             ...   \n",
       "567         Hitoyoshi  32.22  130.75    295.22        86               0   \n",
       "568         Namatanai  -3.67  152.43    299.27        79               9   \n",
       "569       Serebryansk  49.69   83.29    291.15        77              75   \n",
       "570            Sittwe  20.15   92.90    301.30        85             100   \n",
       "571  Fort Saint James  54.43 -124.25    291.72        43              93   \n",
       "\n",
       "     Wind Speed (m/s) Country        Date  \n",
       "0                9.96      PF  1596041118  \n",
       "1                2.57      US  1596040879  \n",
       "2                6.38      BR  1596041118  \n",
       "3                1.63      NZ  1596041227  \n",
       "4                0.90      GL  1596041227  \n",
       "..                ...     ...         ...  \n",
       "567              0.58      JP  1596041461  \n",
       "568              2.18      PG  1596041462  \n",
       "569              3.00      KZ  1596041462  \n",
       "570              3.61      MM  1596041462  \n",
       "571              1.72      CA  1596041462  \n",
       "\n",
       "[572 rows x 9 columns]"
      ]
     },
     "execution_count": 99,
     "metadata": {},
     "output_type": "execute_result"
    }
   ],
   "source": [
    "# Make a new DataFrame equal to the city data to drop all humidity outliers by index.\n",
    "weather_df_cleaned=weather_df.drop(humidity_outlier)\n",
    "# Passing \"inplace=False\" will make a copy of the city_data DataFrame, which we call \"clean_city_data\".\n",
    "weather_df_cleaned"
   ]
  },
  {
   "cell_type": "code",
   "execution_count": 108,
   "metadata": {},
   "outputs": [],
   "source": [
    "# Extract relevant fields from the data frame\n",
    "weather_df_cleaned\n",
    "\n",
    "cleaned_lat=weather_df_cleaned['Lat']\n",
    "cleaned_max_temp=weather_df_cleaned['Max Temp']\n",
    "cleaned_city_name = weather_df_cleaned['City']\n",
    "cleaned_lng = weather_df_cleaned['Long']\n",
    "cleaned_humidity = weather_df_cleaned['Humidity']\n",
    "cleaned_cloudiness = weather_df_cleaned['Cloudiness (%)']\n",
    "cleaned_wind_speed = weather_df_cleaned['Wind Speed (m/s)']\n",
    "cleaned_country = weather_df_cleaned['Country']\n",
    "cleaned_date = weather_df_cleaned['Date']\n",
    "\n",
    "# Export the City_Data into a csv\n",
    "weather_df_cleaned.to_csv('City_data.csv', index=False)"
   ]
  },
  {
   "cell_type": "markdown",
   "metadata": {},
   "source": [
    "## Plotting the Data\n",
    "* Use proper labeling of the plots using plot titles (including date of analysis) and axes labels.\n",
    "* Save the plotted figures as .pngs."
   ]
  },
  {
   "cell_type": "markdown",
   "metadata": {},
   "source": [
    "## Latitude vs. Temperature Plot"
   ]
  },
  {
   "cell_type": "code",
   "execution_count": 133,
   "metadata": {
    "scrolled": true
   },
   "outputs": [
    {
     "data": {
      "text/plain": [
       "Text(0, 0.5, 'Temperature (Kelvin)')"
      ]
     },
     "execution_count": 133,
     "metadata": {},
     "output_type": "execute_result"
    },
    {
     "data": {
      "image/png": "[encoded data removed]",
      "text/plain": [
       "<Figure size 432x288 with 1 Axes>"
      ]
     },
     "metadata": {
      "needs_background": "light"
     },
     "output_type": "display_data"
    }
   ],
   "source": [
    "# plt.scatter((response_json['coord']['lat']),(response_json['main']['temp_max']))\n",
    "plt.scatter(cleaned_lat, cleaned_max_temp)\n",
    "plt.title(\"Latitude vs Max Temperature (Kelvin)\")\n",
    "plt.xlabel('Latitude')\n",
    "plt.ylabel('Temperature (Kelvin)')"
   ]
  },
  {
   "cell_type": "markdown",
   "metadata": {},
   "source": [
    "## Latitude vs. Humidity Plot"
   ]
  },
  {
   "cell_type": "code",
   "execution_count": 109,
   "metadata": {
    "scrolled": true
   },
   "outputs": [
    {
     "data": {
      "text/plain": [
       "<matplotlib.collections.PathCollection at 0x10f07610>"
      ]
     },
     "execution_count": 109,
     "metadata": {},
     "output_type": "execute_result"
    },
    {
     "data": {
      "image/png": "[encoded data removed]",
      "text/plain": [
       "<Figure size 432x288 with 1 Axes>"
      ]
     },
     "metadata": {
      "needs_background": "light"
     },
     "output_type": "display_data"
    }
   ],
   "source": [
    "plt.scatter(cleaned_lat,cleaned_humidity)\n",
    "plt.title(\"Latitude vs Cloudiness (%)\")\n",
    "plt.xlabel('Latitude')\n",
    "plt.ylabel('Cloudiness (%)')"
   ]
  },
  {
   "cell_type": "markdown",
   "metadata": {},
   "source": [
    "## Latitude vs. Cloudiness Plot"
   ]
  },
  {
   "cell_type": "code",
   "execution_count": 131,
   "metadata": {},
   "outputs": [
    {
     "data": {
      "text/plain": [
       "Text(0, 0.5, 'Cloudiness (%)')"
      ]
     },
     "execution_count": 131,
     "metadata": {},
     "output_type": "execute_result"
    },
    {
     "data": {
      "image/png": "[encoded data removed]",
      "text/plain": [
       "<Figure size 432x288 with 1 Axes>"
      ]
     },
     "metadata": {
      "needs_background": "light"
     },
     "output_type": "display_data"
    }
   ],
   "source": [
    "plt.scatter(cleaned_lat, cleaned_cloudiness)\n",
    "plt.title(\"Latitude vs Cloudiness (%)\")\n",
    "plt.xlabel('Latitude')\n",
    "plt.ylabel('Cloudiness (%)')"
   ]
  },
  {
   "cell_type": "markdown",
   "metadata": {},
   "source": [
    "## Latitude vs. Wind Speed Plot"
   ]
  },
  {
   "cell_type": "code",
   "execution_count": 130,
   "metadata": {},
   "outputs": [
    {
     "data": {
      "text/plain": [
       "Text(0, 0.5, 'Wind Speed (m/s)')"
      ]
     },
     "execution_count": 130,
     "metadata": {},
     "output_type": "execute_result"
    },
    {
     "data": {
      "image/png": "[encoded data removed]",
      "text/plain": [
       "<Figure size 432x288 with 1 Axes>"
      ]
     },
     "metadata": {
      "needs_background": "light"
     },
     "output_type": "display_data"
    }
   ],
   "source": [
    "plt.scatter(cleaned_lat, cleaned_wind_speed, color = 'r')\n",
    "plt.title(\"Latitude vs Wind Speed (m/s)\")\n",
    "plt.xlabel('Latitude')\n",
    "plt.ylabel('Wind Speed (m/s)')\n",
    "# plt.savefig('latitude_vs_temp_north.png')"
   ]
  },
  {
   "cell_type": "markdown",
   "metadata": {},
   "source": [
    "## Linear Regression"
   ]
  },
  {
   "cell_type": "code",
   "execution_count": 122,
   "metadata": {},
   "outputs": [],
   "source": [
    "# OPTIONAL: Create a function to create Linear Regression plots\n"
   ]
  },
  {
   "cell_type": "code",
   "execution_count": 117,
   "metadata": {},
   "outputs": [
    {
     "data": {
      "text/html": [
       "<div>\n",
       "<style scoped>\n",
       "    .dataframe tbody tr th:only-of-type {\n",
       "        vertical-align: middle;\n",
       "    }\n",
       "\n",
       "    .dataframe tbody tr th {\n",
       "        vertical-align: top;\n",
       "    }\n",
       "\n",
       "    .dataframe thead th {\n",
       "        text-align: right;\n",
       "    }\n",
       "</style>\n",
       "<table border=\"1\" class=\"dataframe\">\n",
       "  <thead>\n",
       "    <tr style=\"text-align: right;\">\n",
       "      <th></th>\n",
       "      <th>City</th>\n",
       "      <th>Lat</th>\n",
       "      <th>Long</th>\n",
       "      <th>Max Temp</th>\n",
       "      <th>Humidity</th>\n",
       "      <th>Cloudiness (%)</th>\n",
       "      <th>Wind Speed (m/s)</th>\n",
       "      <th>Country</th>\n",
       "      <th>Date</th>\n",
       "    </tr>\n",
       "  </thead>\n",
       "  <tbody>\n",
       "    <tr>\n",
       "      <th>1</th>\n",
       "      <td>Albany</td>\n",
       "      <td>42.60</td>\n",
       "      <td>-73.97</td>\n",
       "      <td>304.26</td>\n",
       "      <td>33</td>\n",
       "      <td>6</td>\n",
       "      <td>2.57</td>\n",
       "      <td>US</td>\n",
       "      <td>1596040879</td>\n",
       "    </tr>\n",
       "    <tr>\n",
       "      <th>4</th>\n",
       "      <td>Qaanaaq</td>\n",
       "      <td>77.48</td>\n",
       "      <td>-69.36</td>\n",
       "      <td>279.09</td>\n",
       "      <td>73</td>\n",
       "      <td>73</td>\n",
       "      <td>0.90</td>\n",
       "      <td>GL</td>\n",
       "      <td>1596041227</td>\n",
       "    </tr>\n",
       "    <tr>\n",
       "      <th>7</th>\n",
       "      <td>Barrow</td>\n",
       "      <td>71.29</td>\n",
       "      <td>-156.79</td>\n",
       "      <td>279.15</td>\n",
       "      <td>75</td>\n",
       "      <td>90</td>\n",
       "      <td>9.80</td>\n",
       "      <td>US</td>\n",
       "      <td>1596041228</td>\n",
       "    </tr>\n",
       "    <tr>\n",
       "      <th>8</th>\n",
       "      <td>The Valley</td>\n",
       "      <td>18.22</td>\n",
       "      <td>-63.06</td>\n",
       "      <td>300.15</td>\n",
       "      <td>88</td>\n",
       "      <td>75</td>\n",
       "      <td>13.40</td>\n",
       "      <td>AI</td>\n",
       "      <td>1596041229</td>\n",
       "    </tr>\n",
       "    <tr>\n",
       "      <th>11</th>\n",
       "      <td>Yellowknife</td>\n",
       "      <td>62.46</td>\n",
       "      <td>-114.35</td>\n",
       "      <td>293.15</td>\n",
       "      <td>60</td>\n",
       "      <td>20</td>\n",
       "      <td>4.60</td>\n",
       "      <td>CA</td>\n",
       "      <td>1596041229</td>\n",
       "    </tr>\n",
       "  </tbody>\n",
       "</table>\n",
       "</div>"
      ],
      "text/plain": [
       "           City    Lat    Long  Max Temp  Humidity  Cloudiness (%)  \\\n",
       "1        Albany  42.60  -73.97    304.26        33               6   \n",
       "4       Qaanaaq  77.48  -69.36    279.09        73              73   \n",
       "7        Barrow  71.29 -156.79    279.15        75              90   \n",
       "8    The Valley  18.22  -63.06    300.15        88              75   \n",
       "11  Yellowknife  62.46 -114.35    293.15        60              20   \n",
       "\n",
       "    Wind Speed (m/s) Country        Date  \n",
       "1               2.57      US  1596040879  \n",
       "4               0.90      GL  1596041227  \n",
       "7               9.80      US  1596041228  \n",
       "8              13.40      AI  1596041229  \n",
       "11              4.60      CA  1596041229  "
      ]
     },
     "execution_count": 117,
     "metadata": {},
     "output_type": "execute_result"
    }
   ],
   "source": [
    "# Create Northern and Southern Hemisphere DataFrames\n",
    "northern = weather_df_cleaned[weather_df_cleaned.Lat > 0]\n",
    "southern = weather_df_cleaned[weather_df_cleaned.Lat < 0]\n",
    "southern.head()\n",
    "northern.head()"
   ]
  },
  {
   "cell_type": "markdown",
   "metadata": {},
   "source": [
    "####  Northern Hemisphere - Max Temp vs. Latitude Linear Regression"
   ]
  },
  {
   "cell_type": "code",
   "execution_count": 138,
   "metadata": {},
   "outputs": [],
   "source": [
    "# (slope, intercept, rvalue, pvalue, stderr) = linregress(x_values, y_values)\n",
    "# regress_values = x_values * slope + intercept\n",
    "# line_eq = \"y = \" + str(round(slope,2)) + \"x + \" + str(round(intercept,2))"
   ]
  },
  {
   "cell_type": "code",
   "execution_count": 175,
   "metadata": {},
   "outputs": [
    {
     "data": {
      "text/plain": [
       "Text(10, 280, 'y = -0.27x + 306.22')"
      ]
     },
     "execution_count": 175,
     "metadata": {},
     "output_type": "execute_result"
    },
    {
     "data": {
      "image/png": "[encoded data removed]",
      "text/plain": [
       "<Figure size 432x288 with 1 Axes>"
      ]
     },
     "metadata": {
      "needs_background": "light"
     },
     "output_type": "display_data"
    }
   ],
   "source": [
    "(slope, intercept, rvalue, pvalue, stderr) = linregress(northern['Lat'], northern['Max Temp'])\n",
    "reg_values = northern['Lat'] * slope + intercept\n",
    "line_eq = \"y = \" + str(round(slope,2)) + \"x + \" + str(round(intercept,2))\n",
    "plt.scatter(northern['Lat'], northern['Max Temp'])\n",
    "#Lin regress plot\n",
    "plt.plot(northern['Lat'],reg_values, 'r')\n",
    "plt.title('Max Temperature in Northern Hempisphere vs. Latitude')\n",
    "plt.xlabel('Latitude')\n",
    "plt.ylabel('Max Temperature (Kelvin)')\n",
    "# plt.text(20, 50, linregress, ha = 'center', va = 'center')\n",
    "plt.annotate(line_eq,(10,280),fontsize=15,color=\"red\")\n",
    "# plt.savefig('max_temp_vs_lat_north.png')\n",
    "\n"
   ]
  },
  {
   "cell_type": "markdown",
   "metadata": {},
   "source": [
    "####  Southern Hemisphere - Max Temp vs. Latitude Linear Regression"
   ]
  },
  {
   "cell_type": "code",
   "execution_count": 174,
   "metadata": {},
   "outputs": [
    {
     "data": {
      "text/plain": [
       "Text(-50, 300, 'y = 0.47x + 302.31')"
      ]
     },
     "execution_count": 174,
     "metadata": {},
     "output_type": "execute_result"
    },
    {
     "data": {
      "image/png": "[encoded data removed]",
      "text/plain": [
       "<Figure size 432x288 with 1 Axes>"
      ]
     },
     "metadata": {
      "needs_background": "light"
     },
     "output_type": "display_data"
    }
   ],
   "source": [
    "(slope, intercept, rvalue, pvalue, stderr) = linregress(southern['Lat'], southern['Max Temp'])\n",
    "reg_values = southern['Lat'] * slope + intercept\n",
    "line_eq = \"y = \" + str(round(slope,2)) + \"x + \" + str(round(intercept,2))\n",
    "plt.scatter(southern['Lat'], southern['Max Temp'])\n",
    "#Lin regress plot\n",
    "plt.plot(southern['Lat'],reg_values, 'r')\n",
    "plt.title('Max Temperature in Southern Hempisphere vs. Latitude')\n",
    "plt.xlabel('Latitude')\n",
    "plt.ylabel('Max Temperature (Kelvin)')\n",
    "# plt.text(20, 50, linregress, ha = 'center', va = 'center')\n",
    "plt.annotate(line_eq,(-50,300),fontsize=15,color=\"red\")\n",
    "# plt.savefig('max_temp_vs_lat_south.png')\n",
    "\n"
   ]
  },
  {
   "cell_type": "markdown",
   "metadata": {},
   "source": [
    "####  Northern Hemisphere - Humidity (%) vs. Latitude Linear Regression"
   ]
  },
  {
   "cell_type": "code",
   "execution_count": 173,
   "metadata": {},
   "outputs": [
    {
     "data": {
      "text/plain": [
       "Text(0, 25, 'y = 0.04x + 69.27')"
      ]
     },
     "execution_count": 173,
     "metadata": {},
     "output_type": "execute_result"
    },
    {
     "data": {
      "image/png": "[encoded data removed]",
      "text/plain": [
       "<Figure size 432x288 with 1 Axes>"
      ]
     },
     "metadata": {
      "needs_background": "light"
     },
     "output_type": "display_data"
    }
   ],
   "source": [
    "(slope, intercept, rvalue, pvalue, stderr) = linregress(northern['Lat'], northern['Humidity'])\n",
    "reg_values = northern['Lat'] * slope + intercept\n",
    "line_eq = \"y = \" + str(round(slope,2)) + \"x + \" + str(round(intercept,2))\n",
    "plt.scatter(northern['Lat'], northern['Humidity'])\n",
    "#Lin regress plot\n",
    "plt.plot(northern['Lat'],reg_values, 'r')\n",
    "plt.title('Humidity in Northern Hempisphere vs. Latitude')\n",
    "plt.xlabel('Latitude')\n",
    "plt.ylabel('Humidity (%)')\n",
    "# plt.text(20, 50, linregress, ha = 'center', va = 'center')\n",
    "plt.annotate(line_eq,(0,25),fontsize=15,color=\"red\")\n",
    "# plt.savefig('humidity_vs_lat_north.png')\n",
    "\n"
   ]
  },
  {
   "cell_type": "markdown",
   "metadata": {},
   "source": [
    "####  Southern Hemisphere - Humidity (%) vs. Latitude Linear Regression"
   ]
  },
  {
   "cell_type": "code",
   "execution_count": 172,
   "metadata": {},
   "outputs": [
    {
     "data": {
      "text/plain": [
       "Text(-55, 30, 'y = -0.16x + 62.31')"
      ]
     },
     "execution_count": 172,
     "metadata": {},
     "output_type": "execute_result"
    },
    {
     "data": {
      "image/png": "[encoded data removed]",
      "text/plain": [
       "<Figure size 432x288 with 1 Axes>"
      ]
     },
     "metadata": {
      "needs_background": "light"
     },
     "output_type": "display_data"
    }
   ],
   "source": [
    "(slope, intercept, rvalue, pvalue, stderr) = linregress(southern['Lat'], southern['Humidity'])\n",
    "reg_values = southern['Lat'] * slope + intercept\n",
    "line_eq = \"y = \" + str(round(slope,2)) + \"x + \" + str(round(intercept,2))\n",
    "plt.scatter(southern['Lat'], southern['Humidity'])\n",
    "#Lin regress plot\n",
    "plt.plot(southern['Lat'],reg_values, 'r')\n",
    "plt.title('Humidity in Southern Hempisphere vs. Latitude')\n",
    "plt.xlabel('Latitude')\n",
    "plt.ylabel('Humidity (%)')\n",
    "# plt.text(20, 50, linregress, ha = 'center', va = 'center')\n",
    "plt.annotate(line_eq,(-55,30),fontsize=15,color=\"red\")\n",
    "# plt.savefig('humidity_vs_lat_south.png')\n",
    "\n"
   ]
  },
  {
   "cell_type": "markdown",
   "metadata": {},
   "source": [
    "####  Northern Hemisphere - Cloudiness (%) vs. Latitude Linear Regression"
   ]
  },
  {
   "cell_type": "code",
   "execution_count": 171,
   "metadata": {},
   "outputs": [
    {
     "data": {
      "text/plain": [
       "Text(0, 63, 'y = -0.04x + 56.2')"
      ]
     },
     "execution_count": 171,
     "metadata": {},
     "output_type": "execute_result"
    },
    {
     "data": {
      "image/png": "[encoded data removed]",
      "text/plain": [
       "<Figure size 432x288 with 1 Axes>"
      ]
     },
     "metadata": {
      "needs_background": "light"
     },
     "output_type": "display_data"
    }
   ],
   "source": [
    "(slope, intercept, rvalue, pvalue, stderr) = linregress(northern['Lat'], northern['Cloudiness (%)'])\n",
    "reg_values = northern['Lat'] * slope + intercept\n",
    "line_eq = \"y = \" + str(round(slope,2)) + \"x + \" + str(round(intercept,2))\n",
    "plt.scatter(northern['Lat'], northern['Cloudiness (%)'])\n",
    "#Lin regress plot\n",
    "plt.plot(northern['Lat'],reg_values, 'r')\n",
    "plt.title('Cloudiness in Northern Hempisphere vs. Latitude')\n",
    "plt.xlabel('Latitude')\n",
    "plt.ylabel('Cloudiness (%)')\n",
    "# plt.text(20, 50, linregress, ha = 'center', va = 'center')\n",
    "plt.annotate(line_eq,(0,63),fontsize=15,color=\"red\")\n",
    "# plt.savefig('Cloudiness_vs_lat_north.png')\n",
    "\n"
   ]
  },
  {
   "cell_type": "markdown",
   "metadata": {},
   "source": [
    "####  Southern Hemisphere - Cloudiness (%) vs. Latitude Linear Regression"
   ]
  },
  {
   "cell_type": "code",
   "execution_count": 170,
   "metadata": {},
   "outputs": [
    {
     "data": {
      "text/plain": [
       "Text(-55, 55, 'y = 0.06x + 33.27')"
      ]
     },
     "execution_count": 170,
     "metadata": {},
     "output_type": "execute_result"
    },
    {
     "data": {
      "image/png": "[encoded data removed]",
      "text/plain": [
       "<Figure size 432x288 with 1 Axes>"
      ]
     },
     "metadata": {
      "needs_background": "light"
     },
     "output_type": "display_data"
    }
   ],
   "source": [
    "(slope, intercept, rvalue, pvalue, stderr) = linregress(southern['Lat'], southern['Cloudiness (%)'])\n",
    "reg_values = southern['Lat'] * slope + intercept\n",
    "line_eq = \"y = \" + str(round(slope,2)) + \"x + \" + str(round(intercept,2))\n",
    "plt.scatter(southern['Lat'], southern['Cloudiness (%)'])\n",
    "#Lin regress plot\n",
    "plt.plot(southern['Lat'],reg_values, 'r')\n",
    "plt.title('Cloudiness in Southern Hempisphere vs. Latitude')\n",
    "plt.xlabel('Latitude')\n",
    "plt.ylabel('Cloudiness (%)')\n",
    "# plt.text(20, 50, linregress, ha = 'center', va = 'center')\n",
    "plt.annotate(line_eq,(-55,55),fontsize=15,color=\"red\")\n",
    "# plt.savefig('cloudiness_vs_lat_south.png')\n",
    "\n"
   ]
  },
  {
   "cell_type": "markdown",
   "metadata": {},
   "source": [
    "####  Northern Hemisphere - Wind Speed (mph) vs. Latitude Linear Regression"
   ]
  },
  {
   "cell_type": "code",
   "execution_count": 169,
   "metadata": {},
   "outputs": [
    {
     "data": {
      "text/plain": [
       "Text(0, 14, 'y = -0.01x + 3.81')"
      ]
     },
     "execution_count": 169,
     "metadata": {},
     "output_type": "execute_result"
    },
    {
     "data": {
      "image/png": "[encoded data removed]",
      "text/plain": [
       "<Figure size 432x288 with 1 Axes>"
      ]
     },
     "metadata": {
      "needs_background": "light"
     },
     "output_type": "display_data"
    }
   ],
   "source": [
    "(slope, intercept, rvalue, pvalue, stderr) = linregress(northern['Lat'], northern['Wind Speed (m/s)'])\n",
    "reg_values = northern['Lat'] * slope + intercept\n",
    "line_eq = \"y = \" + str(round(slope,2)) + \"x + \" + str(round(intercept,2))\n",
    "plt.scatter(northern['Lat'], northern['Wind Speed (m/s)'])\n",
    "#Lin regress plot\n",
    "plt.plot(northern['Lat'],reg_values, 'r')\n",
    "plt.title('Wind Speed in Northern Hempisphere vs. Latitude')\n",
    "plt.xlabel('Latitude')\n",
    "plt.ylabel('Wind Speed (m/s)')\n",
    "# plt.text(20, 50, linregress, ha = 'center', va = 'center')\n",
    "plt.annotate(line_eq,(0,14),fontsize=15,color=\"red\")\n",
    "# plt.savefig('wind_speed_vs_lat_north.png')\n",
    "\n"
   ]
  },
  {
   "cell_type": "markdown",
   "metadata": {},
   "source": [
    "####  Southern Hemisphere - Wind Speed (mph) vs. Latitude Linear Regression"
   ]
  },
  {
   "cell_type": "code",
   "execution_count": 168,
   "metadata": {},
   "outputs": [
    {
     "data": {
      "text/plain": [
       "Text(-55, 10, 'y = -0.0x + 3.82')"
      ]
     },
     "execution_count": 168,
     "metadata": {},
     "output_type": "execute_result"
    },
    {
     "data": {
      "image/png": "[encoded data removed]",
      "text/plain": [
       "<Figure size 432x288 with 1 Axes>"
      ]
     },
     "metadata": {
      "needs_background": "light"
     },
     "output_type": "display_data"
    }
   ],
   "source": [
    "(slope, intercept, rvalue, pvalue, stderr) = linregress(southern['Lat'], southern['Wind Speed (m/s)'])\n",
    "reg_values = southern['Lat'] * slope + intercept\n",
    "line_eq = \"y = \" + str(round(slope,2)) + \"x + \" + str(round(intercept,2))\n",
    "plt.scatter(southern['Lat'], southern['Wind Speed (m/s)'])\n",
    "#Lin regress plot\n",
    "plt.plot(southern['Lat'],reg_values, 'r')\n",
    "plt.title('Wind Speed (m/s) in Southern Hempisphere vs. Latitude')\n",
    "plt.xlabel('Latitude')\n",
    "plt.ylabel('Wind Speed (m/s)')\n",
    "# plt.text(20, 50, linregress, ha = 'center', va = 'center')\n",
    "plt.annotate(line_eq,(-55,10),fontsize=15,color=\"red\")\n",
    "# plt.savefig('wind_speed_vs_lat_south.png')\n",
    "\n"
   ]
  },
  {
   "cell_type": "code",
   "execution_count": null,
   "metadata": {},
   "outputs": [],
   "source": []
  },
  {
   "cell_type": "code",
   "execution_count": null,
   "metadata": {},
   "outputs": [],
   "source": []
  }
 ],
 "metadata": {
  "kernelspec": {
   "display_name": "Python 3",
   "language": "python",
   "name": "python3"
  },
  "language_info": {
   "codemirror_mode": {
    "name": "ipython",
    "version": 3
   },
   "file_extension": ".py",
   "mimetype": "text/x-python",
   "name": "python",
   "nbconvert_exporter": "python",
   "pygments_lexer": "ipython3",
   "version": "3.7.6"
  }
 },
 "nbformat": 4,
 "nbformat_minor": 4
}
